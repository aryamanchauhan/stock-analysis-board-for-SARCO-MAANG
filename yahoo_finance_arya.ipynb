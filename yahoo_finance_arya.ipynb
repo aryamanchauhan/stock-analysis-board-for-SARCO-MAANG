{
 "cells": [
  {
   "cell_type": "code",
   "execution_count": 1,
   "id": "f04c15e5-8efd-477d-a60c-7d028dac78ae",
   "metadata": {},
   "outputs": [
    {
     "name": "stdout",
     "output_type": "stream",
     "text": [
      "Requirement already satisfied: yfinance in c:\\programdata\\anaconda3\\lib\\site-packages (0.2.65)\n",
      "Requirement already satisfied: pandas>=1.3.0 in c:\\programdata\\anaconda3\\lib\\site-packages (from yfinance) (2.2.2)\n",
      "Requirement already satisfied: numpy>=1.16.5 in c:\\programdata\\anaconda3\\lib\\site-packages (from yfinance) (1.26.4)\n",
      "Requirement already satisfied: requests>=2.31 in c:\\programdata\\anaconda3\\lib\\site-packages (from yfinance) (2.32.3)\n",
      "Requirement already satisfied: multitasking>=0.0.7 in c:\\programdata\\anaconda3\\lib\\site-packages (from yfinance) (0.0.12)\n",
      "Requirement already satisfied: platformdirs>=2.0.0 in c:\\programdata\\anaconda3\\lib\\site-packages (from yfinance) (3.10.0)\n",
      "Requirement already satisfied: pytz>=2022.5 in c:\\programdata\\anaconda3\\lib\\site-packages (from yfinance) (2024.1)\n",
      "Requirement already satisfied: frozendict>=2.3.4 in c:\\programdata\\anaconda3\\lib\\site-packages (from yfinance) (2.4.2)\n",
      "Requirement already satisfied: peewee>=3.16.2 in c:\\programdata\\anaconda3\\lib\\site-packages (from yfinance) (3.18.2)\n",
      "Requirement already satisfied: beautifulsoup4>=4.11.1 in c:\\programdata\\anaconda3\\lib\\site-packages (from yfinance) (4.12.3)\n",
      "Requirement already satisfied: curl_cffi>=0.7 in c:\\programdata\\anaconda3\\lib\\site-packages (from yfinance) (0.12.0)\n",
      "Requirement already satisfied: protobuf>=3.19.0 in c:\\programdata\\anaconda3\\lib\\site-packages (from yfinance) (4.25.3)\n",
      "Requirement already satisfied: websockets>=13.0 in c:\\programdata\\anaconda3\\lib\\site-packages (from yfinance) (15.0.1)\n",
      "Requirement already satisfied: soupsieve>1.2 in c:\\programdata\\anaconda3\\lib\\site-packages (from beautifulsoup4>=4.11.1->yfinance) (2.5)\n",
      "Requirement already satisfied: cffi>=1.12.0 in c:\\programdata\\anaconda3\\lib\\site-packages (from curl_cffi>=0.7->yfinance) (1.17.1)\n",
      "Requirement already satisfied: certifi>=2024.2.2 in c:\\programdata\\anaconda3\\lib\\site-packages (from curl_cffi>=0.7->yfinance) (2024.8.30)\n",
      "Requirement already satisfied: python-dateutil>=2.8.2 in c:\\programdata\\anaconda3\\lib\\site-packages (from pandas>=1.3.0->yfinance) (2.9.0.post0)\n",
      "Requirement already satisfied: tzdata>=2022.7 in c:\\programdata\\anaconda3\\lib\\site-packages (from pandas>=1.3.0->yfinance) (2023.3)\n",
      "Requirement already satisfied: charset-normalizer<4,>=2 in c:\\programdata\\anaconda3\\lib\\site-packages (from requests>=2.31->yfinance) (3.3.2)\n",
      "Requirement already satisfied: idna<4,>=2.5 in c:\\programdata\\anaconda3\\lib\\site-packages (from requests>=2.31->yfinance) (3.7)\n",
      "Requirement already satisfied: urllib3<3,>=1.21.1 in c:\\programdata\\anaconda3\\lib\\site-packages (from requests>=2.31->yfinance) (2.2.3)\n",
      "Requirement already satisfied: pycparser in c:\\programdata\\anaconda3\\lib\\site-packages (from cffi>=1.12.0->curl_cffi>=0.7->yfinance) (2.21)\n",
      "Requirement already satisfied: six>=1.5 in c:\\programdata\\anaconda3\\lib\\site-packages (from python-dateutil>=2.8.2->pandas>=1.3.0->yfinance) (1.16.0)\n"
     ]
    }
   ],
   "source": [
    "!pip install --upgrade yfinance"
   ]
  },
  {
   "cell_type": "code",
   "execution_count": 10,
   "id": "866bd087-63b5-47a5-8286-6ec11da91f09",
   "metadata": {},
   "outputs": [
    {
     "name": "stderr",
     "output_type": "stream",
     "text": [
      "C:\\Users\\Administrator\\AppData\\Local\\Temp\\1\\ipykernel_12300\\3646431231.py:11: FutureWarning: YF.download() has changed argument auto_adjust default to True\n",
      "  df = yf.download(symbol, start=start_date, end=end_date)\n",
      "[*********************100%***********************]  1 of 1 completed\n"
     ]
    },
    {
     "data": {
      "text/html": [
       "<div>\n",
       "<style scoped>\n",
       "    .dataframe tbody tr th:only-of-type {\n",
       "        vertical-align: middle;\n",
       "    }\n",
       "\n",
       "    .dataframe tbody tr th {\n",
       "        vertical-align: top;\n",
       "    }\n",
       "\n",
       "    .dataframe thead tr th {\n",
       "        text-align: left;\n",
       "    }\n",
       "</style>\n",
       "<table border=\"1\" class=\"dataframe\">\n",
       "  <thead>\n",
       "    <tr>\n",
       "      <th>Price</th>\n",
       "      <th>Date</th>\n",
       "      <th>Close</th>\n",
       "      <th>High</th>\n",
       "      <th>Low</th>\n",
       "      <th>Open</th>\n",
       "      <th>Volume</th>\n",
       "    </tr>\n",
       "    <tr>\n",
       "      <th>Ticker</th>\n",
       "      <th></th>\n",
       "      <th>2222.SR</th>\n",
       "      <th>2222.SR</th>\n",
       "      <th>2222.SR</th>\n",
       "      <th>2222.SR</th>\n",
       "      <th>2222.SR</th>\n",
       "    </tr>\n",
       "  </thead>\n",
       "  <tbody>\n",
       "    <tr>\n",
       "      <th>0</th>\n",
       "      <td>2022-01-02</td>\n",
       "      <td>25.764997</td>\n",
       "      <td>25.909948</td>\n",
       "      <td>25.764997</td>\n",
       "      <td>25.909948</td>\n",
       "      <td>2644521</td>\n",
       "    </tr>\n",
       "    <tr>\n",
       "      <th>1</th>\n",
       "      <td>2022-01-03</td>\n",
       "      <td>25.837471</td>\n",
       "      <td>25.946185</td>\n",
       "      <td>25.728759</td>\n",
       "      <td>25.728759</td>\n",
       "      <td>3409916</td>\n",
       "    </tr>\n",
       "    <tr>\n",
       "      <th>2</th>\n",
       "      <td>2022-01-04</td>\n",
       "      <td>25.801233</td>\n",
       "      <td>25.873708</td>\n",
       "      <td>25.764995</td>\n",
       "      <td>25.801233</td>\n",
       "      <td>2423144</td>\n",
       "    </tr>\n",
       "    <tr>\n",
       "      <th>3</th>\n",
       "      <td>2022-01-05</td>\n",
       "      <td>25.909943</td>\n",
       "      <td>25.946181</td>\n",
       "      <td>25.764992</td>\n",
       "      <td>25.764992</td>\n",
       "      <td>2979819</td>\n",
       "    </tr>\n",
       "    <tr>\n",
       "      <th>4</th>\n",
       "      <td>2022-01-06</td>\n",
       "      <td>25.692520</td>\n",
       "      <td>25.837471</td>\n",
       "      <td>25.692520</td>\n",
       "      <td>25.801234</td>\n",
       "      <td>3839851</td>\n",
       "    </tr>\n",
       "  </tbody>\n",
       "</table>\n",
       "</div>"
      ],
      "text/plain": [
       "Price        Date      Close       High        Low       Open   Volume\n",
       "Ticker               2222.SR    2222.SR    2222.SR    2222.SR  2222.SR\n",
       "0      2022-01-02  25.764997  25.909948  25.764997  25.909948  2644521\n",
       "1      2022-01-03  25.837471  25.946185  25.728759  25.728759  3409916\n",
       "2      2022-01-04  25.801233  25.873708  25.764995  25.801233  2423144\n",
       "3      2022-01-05  25.909943  25.946181  25.764992  25.764992  2979819\n",
       "4      2022-01-06  25.692520  25.837471  25.692520  25.801234  3839851"
      ]
     },
     "execution_count": 10,
     "metadata": {},
     "output_type": "execute_result"
    }
   ],
   "source": [
    "import yfinance as yf\n",
    "import pandas as pd\n",
    "\n",
    "# Define the stock symbol\n",
    "symbol = '2222.SR'\n",
    "\n",
    "start_date = '2022-01-01'\n",
    "end_date = '2023-01-01'\n",
    "\n",
    "# Fetch df\n",
    "df = yf.download(symbol, start=start_date, end=end_date)\n",
    "\n",
    "df.reset_index(inplace = True)\n",
    "df.head()"
   ]
  },
  {
   "cell_type": "code",
   "execution_count": 11,
   "id": "fcd1440e-2fa7-4a48-8b50-db105b14b6b7",
   "metadata": {},
   "outputs": [
    {
     "data": {
      "text/plain": [
       "0     2022-01-02\n",
       "1     2022-01-03\n",
       "2     2022-01-04\n",
       "3     2022-01-05\n",
       "4     2022-01-06\n",
       "         ...    \n",
       "243   2022-12-25\n",
       "244   2022-12-26\n",
       "245   2022-12-27\n",
       "246   2022-12-28\n",
       "247   2022-12-29\n",
       "Name: Date, Length: 248, dtype: datetime64[ns]"
      ]
     },
     "execution_count": 11,
     "metadata": {},
     "output_type": "execute_result"
    }
   ],
   "source": [
    "# Convert the date column to datetime\n",
    "df['Date'] = pd.to_datetime(df['Date'])\n",
    "df['Date']"
   ]
  },
  {
   "cell_type": "code",
   "execution_count": 12,
   "id": "91931283-1a8e-400f-9775-6124a1b53a32",
   "metadata": {},
   "outputs": [
    {
     "data": {
      "text/plain": [
       "0           NaN\n",
       "1      0.002813\n",
       "2     -0.001403\n",
       "3      0.004213\n",
       "4     -0.008391\n",
       "         ...   \n",
       "243    0.009646\n",
       "244    0.000000\n",
       "245    0.019108\n",
       "246    0.006250\n",
       "247   -0.003105\n",
       "Name: Daily Return, Length: 248, dtype: float64"
      ]
     },
     "execution_count": 12,
     "metadata": {},
     "output_type": "execute_result"
    }
   ],
   "source": [
    "# Add a Daily Return column (percent change of daily closing prices)\n",
    "df['Daily Return'] = df['Close'].pct_change()\n",
    "df['Daily Return']"
   ]
  },
  {
   "cell_type": "code",
   "execution_count": 13,
   "id": "1a0a361c-0ef7-4d0a-b591-f73f2f911e85",
   "metadata": {},
   "outputs": [
    {
     "data": {
      "text/plain": [
       "0            NaN\n",
       "1            NaN\n",
       "2            NaN\n",
       "3            NaN\n",
       "4            NaN\n",
       "         ...    \n",
       "243    25.393976\n",
       "244    25.434868\n",
       "245    25.569227\n",
       "246    25.715270\n",
       "247    25.843788\n",
       "Name: 7-Day MA, Length: 248, dtype: float64"
      ]
     },
     "execution_count": 13,
     "metadata": {},
     "output_type": "execute_result"
    }
   ],
   "source": [
    "# Add 7 Day Moving Average\n",
    "df['7-Day MA'] = df['Close'].rolling(window=7).mean()\n",
    "df['7-Day MA']"
   ]
  },
  {
   "cell_type": "code",
   "execution_count": 14,
   "id": "18f4f278-761d-4fb4-8fab-2bb7666e979f",
   "metadata": {},
   "outputs": [
    {
     "data": {
      "text/plain": [
       "0            NaN\n",
       "1            NaN\n",
       "2            NaN\n",
       "3            NaN\n",
       "4            NaN\n",
       "         ...    \n",
       "243    26.382200\n",
       "244    26.300416\n",
       "245    26.252709\n",
       "246    26.226811\n",
       "247    26.183193\n",
       "Name: 30-Day MA, Length: 248, dtype: float64"
      ]
     },
     "execution_count": 14,
     "metadata": {},
     "output_type": "execute_result"
    }
   ],
   "source": [
    "# Add 30 Day Moving Average\n",
    "df['30-Day MA'] = df['Close'].rolling(window=30).mean()\n",
    "df['30-Day MA']"
   ]
  },
  {
   "cell_type": "code",
   "execution_count": 16,
   "id": "8d119638-c316-4a6d-97d8-308c2ab0c179",
   "metadata": {},
   "outputs": [
    {
     "data": {
      "text/plain": [
       "0     NaN\n",
       "1     NaN\n",
       "2     NaN\n",
       "3     NaN\n",
       "4     NaN\n",
       "       ..\n",
       "243   NaN\n",
       "244   NaN\n",
       "245   NaN\n",
       "246   NaN\n",
       "247   NaN\n",
       "Name: Volatility, Length: 248, dtype: float64"
      ]
     },
     "execution_count": 16,
     "metadata": {},
     "output_type": "execute_result"
    }
   ],
   "source": [
    "# Add Volatility (High - low)/Open\n",
    "df['Volatility'] = (df['High'] - df['Low']) / df['Open']\n",
    "df['Volatility']"
   ]
  },
  {
   "cell_type": "code",
   "execution_count": 17,
   "id": "6fa803e1-ee1c-4899-9111-d305c3bee104",
   "metadata": {},
   "outputs": [],
   "source": [
    "# Flatten multi-index columns\n",
    "\n",
    "# Grouping by Year and Month to get average closing prices and total volume\n",
    "monthly_avg = df.copy()\n",
    "monthly_avg['Month'] = monthly_avg['Date'].dt.month_name()\n",
    "monthly_avg['Year'] = monthly_avg['Date'].dt.year\n",
    "\n",
    "monthly_avg_closing = (\n",
    "    monthly_avg.groupby(['Year', 'Month'], sort=False)['Close']\n",
    "    .mean()\n",
    "    .reset_index()\n",
    "    .rename(columns={'Close': 'Average_Close_Price'})\n",
    ")\n",
    "\n",
    "monthly_volume = (\n",
    "    monthly_avg.groupby(['Year', 'Month'], sort=False)['Volume']\n",
    "    .sum()\n",
    "    .reset_index()\n",
    "    .rename(columns={'Volume': 'Total_Volume'})\n",
    ")"
   ]
  },
  {
   "cell_type": "code",
   "execution_count": 18,
   "id": "1298cd12-a7a5-4a61-a4ff-ddc5dba7e623",
   "metadata": {},
   "outputs": [],
   "source": [
    "# save the df as processed_stock_df.csv\n",
    "\n",
    "df.to_csv(\"processed_stock_df.csv\", index=False)\n",
    "monthly_avg_closing.to_csv(\"monthly_avg_stock_df.csv\", index=False)\n",
    "monthly_volume.to_csv(\"monthly_volume_stock_df.csv\", index=False)"
   ]
  },
  {
   "cell_type": "code",
   "execution_count": null,
   "id": "1f0b54a5-251b-47b8-b1c6-76ecb643e35b",
   "metadata": {},
   "outputs": [],
   "source": []
  }
 ],
 "metadata": {
  "kernelspec": {
   "display_name": "Python 3 (ipykernel)",
   "language": "python",
   "name": "python3"
  },
  "language_info": {
   "codemirror_mode": {
    "name": "ipython",
    "version": 3
   },
   "file_extension": ".py",
   "mimetype": "text/x-python",
   "name": "python",
   "nbconvert_exporter": "python",
   "pygments_lexer": "ipython3",
   "version": "3.12.7"
  }
 },
 "nbformat": 4,
 "nbformat_minor": 5
}
